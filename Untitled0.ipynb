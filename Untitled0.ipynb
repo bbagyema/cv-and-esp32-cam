{
  "nbformat": 4,
  "nbformat_minor": 0,
  "metadata": {
    "colab": {
      "provenance": [],
      "authorship_tag": "ABX9TyNI3+6bDqdFOBrQ+z347/Km",
      "include_colab_link": true
    },
    "kernelspec": {
      "name": "python3",
      "display_name": "Python 3"
    },
    "language_info": {
      "name": "python"
    }
  },
  "cells": [
    {
      "cell_type": "markdown",
      "metadata": {
        "id": "view-in-github",
        "colab_type": "text"
      },
      "source": [
        "<a href=\"https://colab.research.google.com/github/bbagyema/cv-and-esp32-cam/blob/main/Untitled0.ipynb\" target=\"_parent\"><img src=\"https://colab.research.google.com/assets/colab-badge.svg\" alt=\"Open In Colab\"/></a>"
      ]
    },
    {
      "cell_type": "code",
      "execution_count": null,
      "metadata": {
        "colab": {
          "base_uri": "https://localhost:8080/"
        },
        "id": "4x3NjLpRJp4r",
        "outputId": "21caceea-d6bb-4b0d-b4d5-b47bf9e5b9df"
      },
      "outputs": [
        {
          "output_type": "stream",
          "name": "stdout",
          "text": [
            "Requirement already satisfied: cvlib in /usr/local/lib/python3.10/dist-packages (0.2.7)\n",
            "Requirement already satisfied: numpy in /usr/local/lib/python3.10/dist-packages (from cvlib) (1.25.2)\n",
            "Requirement already satisfied: progressbar in /usr/local/lib/python3.10/dist-packages (from cvlib) (2.5)\n",
            "Requirement already satisfied: requests in /usr/local/lib/python3.10/dist-packages (from cvlib) (2.31.0)\n",
            "Requirement already satisfied: pillow in /usr/local/lib/python3.10/dist-packages (from cvlib) (9.4.0)\n",
            "Requirement already satisfied: imageio in /usr/local/lib/python3.10/dist-packages (from cvlib) (2.31.6)\n",
            "Requirement already satisfied: imutils in /usr/local/lib/python3.10/dist-packages (from cvlib) (0.5.4)\n",
            "Requirement already satisfied: charset-normalizer<4,>=2 in /usr/local/lib/python3.10/dist-packages (from requests->cvlib) (3.3.2)\n",
            "Requirement already satisfied: idna<4,>=2.5 in /usr/local/lib/python3.10/dist-packages (from requests->cvlib) (3.6)\n",
            "Requirement already satisfied: urllib3<3,>=1.21.1 in /usr/local/lib/python3.10/dist-packages (from requests->cvlib) (2.0.7)\n",
            "Requirement already satisfied: certifi>=2017.4.17 in /usr/local/lib/python3.10/dist-packages (from requests->cvlib) (2024.2.2)\n"
          ]
        }
      ],
      "source": [
        "\n",
        "!pip install cvlib\n",
        "import cv2\n",
        "import cvlib as cv\n",
        "import matplotlib.pyplot as plt\n",
        "import urllib.request\n",
        "import numpy as np\n",
        "\n",
        "from cvlib.object_detection import draw_bbox\n",
        "import concurrent.futures\n",
        "\n",
        "url = ''\n",
        "im = None\n",
        "\n",
        "def run1():\n",
        "  cv2.namedWindow(\"live transmission\", cv2.WINDOW_AUTOSIZE)\n",
        "  while True:\n",
        "      img_resp + urllib.request.urlopen(url)\n",
        "      imgnp = np.array(bytearray(img_resp.read()), dtype = np.uint8)\n",
        "      im = cv2.imdecode(imgnp, -1)\n",
        "\n",
        "      cv2.imshow('live transmission', im)\n",
        "      key = cv2.waitKey(5)\n",
        "      if key == ord('q') :\n",
        "        break\n",
        "\n",
        "  cv2.destroyAllWindows()\n",
        "\n",
        "def run2():\n",
        "  cv2.namedWindow(\"detection\", cv2.WINDOW_AUTOSIZE)\n",
        "  while True:\n",
        "      img_resp = urllib.request.urlopen(url)\n",
        "      imgnp = np.array(bytearray(img_resp.read()), dtype = np.uint8)\n",
        "      im = cv2.imdecode(imgnp, -1)\n",
        "\n",
        "      bbox, label, conf = cv.detect_common_objects(im)\n",
        "      im = draw_bbox(im, bbox, label, conf)\n",
        "\n",
        "      cv2.imshow('detection', im)\n",
        "      key = cv2.waitKey(5)\n",
        "      if key == ord('q') :\n",
        "        break\n",
        "\n",
        "  cv2.destroyAllWindows()\n",
        "\n",
        "if__name__ == '__main__':\n",
        "  print(\"started\")\n",
        "  with concurrent.futures.ProcessPoolExecutor() as executer :\n",
        "    f1 = executer.submit(run1)\n",
        "    f2 = executer.submit(run2)\n",
        "\n",
        "\n"
      ]
    }
  ]
}